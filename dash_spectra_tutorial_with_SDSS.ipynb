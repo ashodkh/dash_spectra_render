{
 "cells": [
  {
   "cell_type": "code",
   "execution_count": null,
   "metadata": {},
   "outputs": [],
   "source": [
    "import numpy as np\n",
    "import dash_script\n"
   ]
  },
  {
   "attachments": {},
   "cell_type": "markdown",
   "metadata": {},
   "source": [
    "First, import data. This data was obtained using the [astroML package](https://www.astroml.org/)."
   ]
  },
  {
   "cell_type": "code",
   "execution_count": null,
   "metadata": {},
   "outputs": [],
   "source": [
    "data = np.load('spec4000.npz')\n",
    "wavelength = np.load('wavelength.npz')['arr_0']\n",
    "list(data.keys())"
   ]
  },
  {
   "attachments": {},
   "cell_type": "markdown",
   "metadata": {},
   "source": [
    "Now extract spectra and x and y coordinates. In this example, we are going to plot a [BPT diagram](https://ned.ipac.caltech.edu/level5/Glossary/Essay_bpt.html). \n",
    "<br>The purpose of this module is to plot galaxies in an x-y coordinate (such as BPT), and then hover over a point to see its spectrum in real time."
   ]
  },
  {
   "cell_type": "code",
   "execution_count": null,
   "metadata": {},
   "outputs": [],
   "source": [
    "spectra = data['spectra']\n",
    "n = spectra.shape[0]\n",
    "\n",
    "n2_ha = data['log_NII_Ha']\n",
    "o3_hb = data['log_OIII_Hb']"
   ]
  },
  {
   "attachments": {},
   "cell_type": "markdown",
   "metadata": {},
   "source": [
    "Now we call the function dash_plot_spectra from the dash_script module.<br>The line of code shown below is the minimum input required to run the function."
   ]
  },
  {
   "cell_type": "code",
   "execution_count": null,
   "metadata": {},
   "outputs": [],
   "source": [
    "app = dash_script.dash_plot_spectra(x={'n2_ha': n2_ha}, y={'o3_hb': o3_hb}, spectra=[spectra], wavelength=wavelength)"
   ]
  },
  {
   "attachments": {},
   "cell_type": "markdown",
   "metadata": {},
   "source": [
    "The function returns something called a [dash app](https://dash.plotly.com/tutorial), which can be run by calling the run_server function. <br>This returns a clickable link which opens in your browser. Note that it runs on your local machine so you don't need internet to run it."
   ]
  },
  {
   "cell_type": "code",
   "execution_count": null,
   "metadata": {},
   "outputs": [],
   "source": [
    "# if __name__ == '__main__':\n",
    "#     app.run_server(debug=True)"
   ]
  },
  {
   "cell_type": "code",
   "execution_count": null,
   "metadata": {},
   "outputs": [],
   "source": [
    "lines_to_mask = ['OII_doublet', 'OIII (5007)', 'H_alpha']\n",
    "lines_waves = [3728.5, 5008.2, 6564.6]\n",
    "masking_windows = [10,7,8]\n",
    "masked_spectra = np.zeros_like(spectra)\n",
    "for i in range(n):\n",
    "    masked_spectra[i,:] = spectra[i,:]\n",
    "    for l in range(len(lines_to_mask)):\n",
    "        # np.searchsorted is used to find the indices of the masking window edges\n",
    "        i1, i2 = np.searchsorted(wavelength, (lines_waves[l]-masking_windows[l], lines_waves[l]+masking_windows[l]))\n",
    "        x0, x1 = wavelength[i1-1], wavelength[i2+1]\n",
    "        y0, y1 = spectra[i,i1-1], spectra[i,i2+1]\n",
    "        # the emission line region is replaces by linearly interpolating the underlying continuum\n",
    "        masked_spectra[i,i1:i2] = np.interp(wavelength[i1:i2], [x0,x1], [y0,y1])\n",
    "        # the below if statement is to prevent masking absoprtion lines\n",
    "        if np.average(masked_spectra[i,i1:i2]) > np.average(spectra[i,i1:i2]):\n",
    "                masked_spectra[i,i1:i2] = spectra[i,i1:i2]\n",
    "\n",
    "# This dictionary is used to tell the dash function which wavelengths to zoom in on and show in subplots titled by the keys.\n",
    "# The values must be a list/array of size len(x), so if you want to use the same value for each point, you can simply do [value]*number of points\n",
    "zoom = {}\n",
    "for l in range(len(lines_to_mask)):\n",
    "     zoom.update({lines_to_mask[l]: [lines_waves[l]]*n})"
   ]
  },
  {
   "attachments": {},
   "cell_type": "markdown",
   "metadata": {},
   "source": [
    "The below function call demonstrates the features available. <br>\n",
    "The limits on the x and y axes can be set. <br>\n",
    "A custom color coding can be used in the x,y plane, with any colormap that is allowed by Plotly.<br>\n",
    "Multiple spectra can be inputted as a list, and each spectrum's color and name (to be shown in the legend) can be given.<br>\n",
    "Zoom-in subplots can be added that zoom in on particular parts of the spectra.<br>"
   ]
  },
  {
   "cell_type": "code",
   "execution_count": null,
   "metadata": {},
   "outputs": [],
   "source": [
    "app = dash_script.dash_plot_spectra(x={'n2_ha': n2_ha}, y={'o3_hb': o3_hb}, xlim=[-1.5,1], ylim=[-1.2,1], color_code={'redshift': data['z']}, cmap='Inferno', kao_lines=True, \\\n",
    "                                    spectra=[spectra, masked_spectra], wavelength=wavelength, spec_colors=['rgba(0,0,0,0.5)','rgba(256,0,0,0.5)'],\\\n",
    "                                    spec_names=['Observed', 'masked'],\\\n",
    "                                    zoom=zoom, zoom_windows=[15,15,15],\\\n",
    "                                    zoom_extras = [{'OII_doublet flux': spectra[:,np.searchsorted(wavelength, lines_waves[0])]},\n",
    "                                                   {'OIII(5007) flux': spectra[:,np.searchsorted(wavelength, lines_waves[1])-1]},\n",
    "                                                   {'H_alpha flux': spectra[:,np.searchsorted(wavelength, lines_waves[2])-1]}])"
   ]
  },
  {
   "cell_type": "code",
   "execution_count": null,
   "metadata": {},
   "outputs": [],
   "source": [
    "if __name__ == '__main__':\n",
    "    app.run_server(debug=True)"
   ]
  },
  {
   "cell_type": "code",
   "execution_count": null,
   "metadata": {},
   "outputs": [],
   "source": []
  }
 ],
 "metadata": {
  "kernelspec": {
   "display_name": "dsfp",
   "language": "python",
   "name": "python3"
  },
  "language_info": {
   "codemirror_mode": {
    "name": "ipython",
    "version": 3
   },
   "file_extension": ".py",
   "mimetype": "text/x-python",
   "name": "python",
   "nbconvert_exporter": "python",
   "pygments_lexer": "ipython3",
   "version": "3.10.9"
  },
  "orig_nbformat": 4
 },
 "nbformat": 4,
 "nbformat_minor": 2
}
